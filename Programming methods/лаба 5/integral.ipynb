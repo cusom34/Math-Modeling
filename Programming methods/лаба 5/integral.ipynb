{
 "cells": [
  {
   "cell_type": "code",
   "execution_count": 14,
   "metadata": {},
   "outputs": [
    {
     "name": "stdout",
     "output_type": "stream",
     "text": [
      "0.040385258412884116\n"
     ]
    }
   ],
   "source": [
    "import matplotlib.pyplot as plt\n",
    "import numpy as np\n",
    "import sympy as sy\n",
    "import math\n",
    "import scipy\n",
    "from scipy.integrate import quad\n",
    "\n",
    "err = 0.0001      \n",
    "M2 = 4/np.exp(1)  #максимум второй производной по модулю для функции e^(-x^2)\n",
    "step_optymal = (24*err/M2)**0.5 \n",
    "print(step_optymal)\n",
    "step = 0.01  "
   ]
  },
  {
   "cell_type": "code",
   "execution_count": 5,
   "metadata": {},
   "outputs": [],
   "source": [
    "def factorial(x):\n",
    "    result = 1\n",
    "    if (x == 0):\n",
    "        return result\n",
    "    else:\n",
    "        for i in range(1,x+1): \n",
    "            result*=i\n",
    "        return result\n",
    "\n",
    "def exp_taylor(x,n):\n",
    "    \"\"\"\n",
    "    #в этом случае он не ограничивается в кол-ве членов ряда и может улететь далеко в бесконечность \n",
    "    row_elements2 = []   \n",
    "    i = 0\n",
    "    while (abs(np.exp((x)) - sum(row_elements2)) > err):\n",
    "        row_elements2 += [(x)**i/factorial(i)]\n",
    "        i += 1\n",
    "    return row_elements2\n",
    "    \"\"\"\n",
    "    row_elements = []\n",
    "    for i in range(0,n):\n",
    "        row_elements += [x**i/factorial(i)]\n",
    "    return row_elements\n",
    "\n",
    "def integrated_exp_taylor(x,n):\n",
    "    row_elements = []\n",
    "    for i in range(0,n):\n",
    "        row_elements += [(-1)**i*x**(2*i+1)/(factorial(i)*(2*i+1))]\n",
    "    return row_elements\n",
    "\n",
    "def integral_trapecia(x):\n",
    "    integral_sum = 0\n",
    "    for i in range(len(x)-1):\n",
    "        integral_sum += (sum(exp_taylor(x[i],8)) + sum(exp_taylor(x[i+1],8)))/2 * step\n",
    "    return integral_sum\n",
    "        \n",
    "#print(sum(exp_taylor(0.1,8)))\n",
    "#print(np.exp(0.1))\n",
    "#print(sum(exp_taylor(0.1,8)) - np.exp(0.1))"
   ]
  },
  {
   "cell_type": "code",
   "execution_count": 6,
   "metadata": {},
   "outputs": [
    {
     "data": {
      "image/png": "[encoded data removed]",
      "text/plain": [
       "<Figure size 432x288 with 1 Axes>"
      ]
     },
     "metadata": {
      "needs_background": "light"
     },
     "output_type": "display_data"
    }
   ],
   "source": [
    "axis = np.arange(0,1,step)\n",
    "plt.plot(axis,sum(exp_taylor(-axis**2,8)))\n",
    "plt.plot(axis,np.exp(-axis**2))\n",
    "plt.grid()"
   ]
  },
  {
   "cell_type": "markdown",
   "metadata": {},
   "source": [
    "### Тут считаем интеграл трапециями по ряду "
   ]
  },
  {
   "cell_type": "code",
   "execution_count": 7,
   "metadata": {},
   "outputs": [
    {
     "name": "stdout",
     "output_type": "stream",
     "text": [
      "0.743101114104944\n"
     ]
    }
   ],
   "source": [
    "print(integral_trapecia((-axis**2)))"
   ]
  },
  {
   "cell_type": "markdown",
   "metadata": {},
   "source": [
    "### Тут считаем сумму интегрированного ряда "
   ]
  },
  {
   "cell_type": "code",
   "execution_count": 20,
   "metadata": {},
   "outputs": [
    {
     "name": "stdout",
     "output_type": "stream",
     "text": [
      "0.7468360343360344\n",
      "0.7468241328124269\n",
      "1.1901523607527054e-05\n"
     ]
    }
   ],
   "source": [
    "print(sum(integrated_exp_taylor(1,7))) #тут n=7 т.к. в ряде с 7 члена порядок малости <= 10**(-4)\n",
    "print(math.pi**0.5/2*scipy.special.erf(1)) #функция ошибки домноженная на pi^0.5/2\n",
    "print(sum(integrated_exp_taylor(1,7)) - math.pi**0.5/2*scipy.special.erf(1))"
   ]
  }
 ],
 "metadata": {
  "kernelspec": {
   "display_name": "Python 3",
   "language": "python",
   "name": "python3"
  },
  "language_info": {
   "codemirror_mode": {
    "name": "ipython",
    "version": 3
   },
   "file_extension": ".py",
   "mimetype": "text/x-python",
   "name": "python",
   "nbconvert_exporter": "python",
   "pygments_lexer": "ipython3",
   "version": "3.8.5"
  }
 },
 "nbformat": 4,
 "nbformat_minor": 2
}
