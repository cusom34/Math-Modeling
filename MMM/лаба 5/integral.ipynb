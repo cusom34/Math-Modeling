{
 "cells": [
  {
   "cell_type": "code",
   "execution_count": 86,
   "metadata": {},
   "outputs": [
    {
     "name": "stdout",
     "output_type": "stream",
     "text": [
      "0.040385258412884116\n"
     ]
    }
   ],
   "source": [
    "import matplotlib.pyplot as plt\n",
    "import numpy as np\n",
    "import sympy as sy\n",
    "from scipy.integrate import quad\n",
    "\n",
    "err = 0.0001      \n",
    "M2 = 4/np.exp(1)  #максимум второй производной по модулю для функции e^(-x^2)\n",
    "step_optymal = (24*err/M2)**0.5 \n",
    "print(step_optymal)\n",
    "step = 0.01  "
   ]
  },
  {
   "cell_type": "code",
   "execution_count": 95,
   "metadata": {},
   "outputs": [
    {
     "name": "stdout",
     "output_type": "stream",
     "text": [
      "1.1051709180753966\n",
      "1.1051709180756477\n",
      "-2.511324481702104e-13\n"
     ]
    }
   ],
   "source": [
    "def quad_exp(x):\n",
    "    return np.exp(-x**2)\n",
    "\n",
    "def factorial(x):\n",
    "    result = 1\n",
    "    if (x == 0):\n",
    "        return result\n",
    "    else:\n",
    "        for i in range(1,x+1): \n",
    "            result*=i\n",
    "        return result\n",
    "\n",
    "def exp_taylor(x,n):\n",
    "    \"\"\"\n",
    "    #в этом случае он не ограничивается в кол-ве членов ряда и может улететь далеко в бесконечность \n",
    "    row_elements2 = []   \n",
    "    i = 0\n",
    "    while (abs(np.exp((x)) - sum(row_elements2)) > err):\n",
    "        row_elements2 += [(x)**i/factorial(i)]\n",
    "        i += 1\n",
    "    return row_elements2\n",
    "    \"\"\"\n",
    "    row_elements = []\n",
    "    for i in range(0,n):\n",
    "        row_elements += [x**i/factorial(i)]\n",
    "    return row_elements\n",
    "\n",
    "def integrated_exp_taylor(x,n):\n",
    "    row_elements = []\n",
    "    for i in range(0,n):\n",
    "        row_elements += [(-1)**i*x**(2*i+1)/(factorial(i)*(2*i+1))]\n",
    "    return row_elements\n",
    "\n",
    "def integral_trapecia(x):\n",
    "    integral_sum = 0\n",
    "    for i in range(len(x)-1):\n",
    "        integral_sum += (sum(exp_taylor(x[i],8)) + sum(exp_taylor(x[i+1],8)))/2 * step\n",
    "    return integral_sum\n",
    "        \n",
    "#print(sum(exp_taylor(0.1,8)))\n",
    "#print(np.exp(0.1))\n",
    "#print(sum(exp_taylor(0.1,8)) - np.exp(0.1))"
   ]
  },
  {
   "cell_type": "code",
   "execution_count": 57,
   "metadata": {},
   "outputs": [
    {
     "data": {
      "image/png": "[encoded data removed]",
      "text/plain": [
       "<Figure size 640x480 with 1 Axes>"
      ]
     },
     "metadata": {},
     "output_type": "display_data"
    }
   ],
   "source": [
    "axis = np.arange(0,1,step)\n",
    "plt.plot(axis,sum(exp_taylor(-axis**2,8)))\n",
    "plt.plot(axis,np.exp(-axis**2))\n",
    "plt.grid()"
   ]
  },
  {
   "cell_type": "markdown",
   "metadata": {},
   "source": [
    "### Тут считаем интеграл трапециями по ряду "
   ]
  },
  {
   "cell_type": "code",
   "execution_count": 58,
   "metadata": {},
   "outputs": [
    {
     "name": "stdout",
     "output_type": "stream",
     "text": [
      "0.743101114104944\n"
     ]
    }
   ],
   "source": [
    "print(integral_trapecia((-axis**2)))"
   ]
  },
  {
   "cell_type": "markdown",
   "metadata": {},
   "source": [
    "### Тут считаем сумму интегрированного ряда "
   ]
  },
  {
   "cell_type": "code",
   "execution_count": 97,
   "metadata": {},
   "outputs": [
    {
     "name": "stdout",
     "output_type": "stream",
     "text": [
      "0.7468228068228069\n"
     ]
    }
   ],
   "source": [
    "print(sum(integrated_exp_taylor(1,8))) #тут n=8 т.к. в ряде с 7 члена порядок малости <= 10**(-4)"
   ]
  },
  {
   "cell_type": "markdown",
   "metadata": {},
   "source": [
    "### Тут считаем интеграл встроенной библиотекой"
   ]
  },
  {
   "cell_type": "code",
   "execution_count": 94,
   "metadata": {},
   "outputs": [
    {
     "name": "stdout",
     "output_type": "stream",
     "text": [
      "(0.7468241328124271, 8.291413475940725e-15)\n"
     ]
    }
   ],
   "source": [
    "print(quad(quad_exp, 0, 1))"
   ]
  }
 ],
 "metadata": {
  "kernelspec": {
   "display_name": "Python 3",
   "language": "python",
   "name": "python3"
  },
  "language_info": {
   "codemirror_mode": {
    "name": "ipython",
    "version": 3
   },
   "file_extension": ".py",
   "mimetype": "text/x-python",
   "name": "python",
   "nbconvert_exporter": "python",
   "pygments_lexer": "ipython3",
   "version": "3.9.6"
  }
 },
 "nbformat": 4,
 "nbformat_minor": 2
}
