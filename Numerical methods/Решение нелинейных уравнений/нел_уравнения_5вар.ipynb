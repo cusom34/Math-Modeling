{
 "cells": [
  {
   "cell_type": "code",
   "execution_count": 13,
   "metadata": {},
   "outputs": [],
   "source": [
    "import numpy as np\n",
    "import matplotlib.pyplot as plt\n",
    "from numpy import cos, sin, log"
   ]
  },
  {
   "cell_type": "markdown",
   "metadata": {},
   "source": [
    "# Номер 1"
   ]
  },
  {
   "cell_type": "code",
   "execution_count": 2,
   "metadata": {},
   "outputs": [],
   "source": [
    "def f(x):\n",
    "    return 3*x**4 + 8*x**3 + 6*x**2 - 11"
   ]
  },
  {
   "cell_type": "code",
   "execution_count": 7,
   "metadata": {},
   "outputs": [
    {
     "name": "stdout",
     "output_type": "stream",
     "text": [
      "[ -3 ; -2 ]\n",
      "[ 0 ; 1 ]\n"
     ]
    }
   ],
   "source": [
    "for i in range(-5, 5):\n",
    "    if f(i)*(f(i+1))<0:\n",
    "        print(\"[\", i, \";\", i+1, \"]\")"
   ]
  },
  {
   "cell_type": "markdown",
   "metadata": {},
   "source": [
    "## Дихотомия"
   ]
  },
  {
   "cell_type": "code",
   "execution_count": 8,
   "metadata": {},
   "outputs": [
    {
     "name": "stdout",
     "output_type": "stream",
     "text": [
      "-2.1092071533203125 2.3278396945158875e-05 15\n"
     ]
    }
   ],
   "source": [
    "pogr=0.0001\n",
    "a=-3\n",
    "b=-2\n",
    "c=(a+b)/2\n",
    "k=0\n",
    "while (abs(f(c))>pogr):\n",
    "    k+=1\n",
    "    if f(c)*f(a)>0:\n",
    "        a=c\n",
    "    else: \n",
    "        b=c\n",
    "    c=(a+b)/2\n",
    "    \n",
    "    \n",
    "print(c, f(c), k)"
   ]
  },
  {
   "cell_type": "markdown",
   "metadata": {},
   "source": [
    "## Хорды"
   ]
  },
  {
   "cell_type": "code",
   "execution_count": 9,
   "metadata": {},
   "outputs": [],
   "source": [
    "def c1(a, b):\n",
    "    k=(f(b)-f(a))/(b-a)\n",
    "    b1=f(a)-k*a\n",
    "    c=-b1/k\n",
    "    return c"
   ]
  },
  {
   "cell_type": "code",
   "execution_count": 10,
   "metadata": {},
   "outputs": [
    {
     "name": "stdout",
     "output_type": "stream",
     "text": [
      "-2.109206405527556 -8.235552684254799e-09 0\n"
     ]
    }
   ],
   "source": [
    "c=c1(a, b)\n",
    "k=0\n",
    "while (abs(f(c))>pogr):\n",
    "    k+=1\n",
    "    if f(c)*f(a)>0:\n",
    "        a=c\n",
    "    else: \n",
    "        b=c\n",
    "    c=c1(a, b)\n",
    "    \n",
    "    \n",
    "print(c, f(c), k)"
   ]
  },
  {
   "cell_type": "markdown",
   "metadata": {},
   "source": [
    "# Номер 2"
   ]
  },
  {
   "cell_type": "code",
   "execution_count": 15,
   "metadata": {},
   "outputs": [],
   "source": [
    "def f(x):\n",
    "    return x + np.cos(x) - 1.7"
   ]
  },
  {
   "cell_type": "code",
   "execution_count": 18,
   "metadata": {},
   "outputs": [],
   "source": [
    "x=np.linspace(0, 5, 10000)\n",
    "y=f(x)"
   ]
  },
  {
   "cell_type": "code",
   "execution_count": 19,
   "metadata": {},
   "outputs": [
    {
     "data": {
      "text/plain": [
       "[<matplotlib.lines.Line2D at 0x2437ccdaf70>]"
      ]
     },
     "execution_count": 19,
     "metadata": {},
     "output_type": "execute_result"
    },
    {
     "data": {
      "image/png": "[encoded data removed]",
      "text/plain": [
       "<Figure size 640x480 with 1 Axes>"
      ]
     },
     "metadata": {},
     "output_type": "display_data"
    }
   ],
   "source": [
    "plt.grid() \n",
    "plt.plot(x, y)"
   ]
  },
  {
   "cell_type": "raw",
   "metadata": {},
   "source": [
    "корень в [2;3]"
   ]
  },
  {
   "cell_type": "markdown",
   "metadata": {},
   "source": [
    "## Метод простой итерации"
   ]
  },
  {
   "cell_type": "code",
   "execution_count": 20,
   "metadata": {},
   "outputs": [],
   "source": [
    "def g(x):\n",
    "    return 1.7 - cos(x)"
   ]
  },
  {
   "cell_type": "code",
   "execution_count": 21,
   "metadata": {},
   "outputs": [
    {
     "name": "stdout",
     "output_type": "stream",
     "text": [
      "2.5026252367634227 -8.674736696256957e-05 5\n"
     ]
    }
   ],
   "source": [
    "a=2\n",
    "b=3\n",
    "x=(a+b)/2\n",
    "k=0\n",
    "while (abs(f(x))>pogr):\n",
    "    k+=1\n",
    "    x=g(x)\n",
    "    \n",
    "    \n",
    "print(x, f(x), k)"
   ]
  },
  {
   "cell_type": "markdown",
   "metadata": {},
   "source": [
    "## Метод Ньютона"
   ]
  },
  {
   "cell_type": "code",
   "execution_count": 22,
   "metadata": {},
   "outputs": [],
   "source": [
    "def df(x):\n",
    "    return 1 - sin(x)"
   ]
  },
  {
   "cell_type": "code",
   "execution_count": 23,
   "metadata": {},
   "outputs": [],
   "source": [
    "def g(x):\n",
    "    return x-f(x)/df(x)"
   ]
  },
  {
   "cell_type": "code",
   "execution_count": 24,
   "metadata": {},
   "outputs": [
    {
     "name": "stdout",
     "output_type": "stream",
     "text": [
      "2.502848159922508 3.2517468415704798e-06 1\n"
     ]
    }
   ],
   "source": [
    "a=2\n",
    "b=3\n",
    "x=(a+b)/2\n",
    "k=0\n",
    "while (abs(f(x))>pogr):\n",
    "    k+=1\n",
    "    x=g(x)\n",
    "    \n",
    "    \n",
    "print(x, f(x), k)"
   ]
  },
  {
   "cell_type": "markdown",
   "metadata": {},
   "source": [
    "# Номер 3"
   ]
  },
  {
   "cell_type": "markdown",
   "metadata": {},
   "source": [
    "## Метод Ньютона"
   ]
  },
  {
   "cell_type": "code",
   "execution_count": 26,
   "metadata": {},
   "outputs": [],
   "source": [
    "def f1(x, y):\n",
    "    return sin(x + y) - 1.5*x*y"
   ]
  },
  {
   "cell_type": "code",
   "execution_count": 25,
   "metadata": {},
   "outputs": [],
   "source": [
    "def f2(x, y):\n",
    "    return (x**2)-(y**2)-0.75"
   ]
  },
  {
   "cell_type": "code",
   "execution_count": 27,
   "metadata": {},
   "outputs": [],
   "source": [
    "def I(x, y):\n",
    "    return [[cos(x+y)-1.5*y, cos(x+y)-1.5*x], [2*x, -2*y]]"
   ]
  },
  {
   "cell_type": "code",
   "execution_count": 28,
   "metadata": {},
   "outputs": [],
   "source": [
    "def det(a):\n",
    "    return a[0][0]*a[1][1]-a[0][1]*a[1][0]"
   ]
  },
  {
   "cell_type": "code",
   "execution_count": 29,
   "metadata": {},
   "outputs": [],
   "source": [
    "def revers(a):\n",
    "    c=[[0, 0], [0, 0]]\n",
    "    d=det(a)\n",
    "    for i in range(2):\n",
    "        for j in range(2):\n",
    "            c[1-j][1-i]=a[i][j]/d*(-1)**(i+j)\n",
    "    return c"
   ]
  },
  {
   "cell_type": "code",
   "execution_count": 30,
   "metadata": {},
   "outputs": [],
   "source": [
    "def proizv(a, x):\n",
    "    return [a[0][0]*x[0]+a[0][1]*x[1], a[1][0]*x[0]+a[1][1]*x[1]]"
   ]
  },
  {
   "cell_type": "code",
   "execution_count": 31,
   "metadata": {},
   "outputs": [],
   "source": [
    "def F(x, y):\n",
    "    return [f1(x, y), f2(x, y)]"
   ]
  },
  {
   "cell_type": "code",
   "execution_count": 32,
   "metadata": {},
   "outputs": [],
   "source": [
    "def dif(a, b):\n",
    "    return ([a[0]-b[0], a[1]-b[1]])"
   ]
  },
  {
   "cell_type": "code",
   "execution_count": 51,
   "metadata": {},
   "outputs": [
    {
     "name": "stdout",
     "output_type": "stream",
     "text": [
      "[1.065822136114368, 0.6212705587702311] [-6.754042641832214e-07, -2.8136328067418503e-07] 4\n"
     ]
    }
   ],
   "source": [
    "x=1\n",
    "y=0\n",
    "k=0\n",
    "while (abs(f1(x, y))>pogr and abs(f2(x, y))>pogr):\n",
    "    k+=1\n",
    "    x, y= dif([x, y], proizv(revers(I(x, y)), F(x, y)))\n",
    "    \n",
    "    \n",
    "print([x, y], [f1(x, y), f2(x, y)], k)"
   ]
  }
 ],
 "metadata": {
  "kernelspec": {
   "display_name": "Python 3 (ipykernel)",
   "language": "python",
   "name": "python3"
  },
  "language_info": {
   "codemirror_mode": {
    "name": "ipython",
    "version": 3
   },
   "file_extension": ".py",
   "mimetype": "text/x-python",
   "name": "python",
   "nbconvert_exporter": "python",
   "pygments_lexer": "ipython3",
   "version": "3.9.6"
  }
 },
 "nbformat": 4,
 "nbformat_minor": 4
}
